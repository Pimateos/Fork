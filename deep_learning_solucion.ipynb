{
  "nbformat": 4,
  "nbformat_minor": 0,
  "metadata": {
    "colab": {
      "name": "deep_learning_solucion.ipynb",
      "version": "0.3.2",
      "provenance": [],
      "collapsed_sections": [],
      "include_colab_link": true
    },
    "kernelspec": {
      "display_name": "Python 3",
      "language": "python",
      "name": "python3"
    }
  },
  "cells": [
    {
      "cell_type": "markdown",
      "metadata": {
        "id": "view-in-github",
        "colab_type": "text"
      },
      "source": [
        "<a href=\"https://colab.research.google.com/github/Pimateos/Fork/blob/master/deep_learning_solucion.ipynb\" target=\"_parent\"><img src=\"https://colab.research.google.com/assets/colab-badge.svg\" alt=\"Open In Colab\"/></a>"
      ]
    },
    {
      "metadata": {
        "id": "n22BaS0EET4S",
        "colab_type": "code",
        "colab": {}
      },
      "cell_type": "code",
      "source": [
        "%matplotlib inline"
      ],
      "execution_count": 0,
      "outputs": []
    },
    {
      "metadata": {
        "id": "wYtH_3YNET4W",
        "colab_type": "text"
      },
      "cell_type": "markdown",
      "source": [
        "# MNIST DNN\n",
        "\n",
        "Redes profundas, activaciones y métodos de inicialización de pesos"
      ]
    },
    {
      "metadata": {
        "id": "MOvU8l0VEkKX",
        "colab_type": "text"
      },
      "cell_type": "markdown",
      "source": [
        "Vamos a cargar un dataset de datos MNIST, correspondiente a números manuscritos con unas dimensiones de 28x28 pixels. El dataset se divide en :\n",
        "\n",
        "\n",
        "*   Conjunto de entrenamiento (train)\n",
        "*   Conjunto de test(test)\n",
        "\n",
        "A su vez, en ambos tenemos los valores x_ correspondientes a las variables e y_ correspondiente a la variable objetivo, que pretendemos predecir.\n",
        "\n",
        "\n"
      ]
    },
    {
      "metadata": {
        "id": "K5_cacR8ET4Y",
        "colab_type": "code",
        "colab": {
          "base_uri": "https://localhost:8080/",
          "height": 51
        },
        "outputId": "82115e08-f788-4f42-e197-7d366275be1e"
      },
      "cell_type": "code",
      "source": [
        "from keras.datasets import mnist\n",
        "from keras.utils import to_categorical\n",
        "import numpy as np\n",
        "(x_train, y_train), (x_test, y_test) = mnist.load_data()"
      ],
      "execution_count": 5,
      "outputs": [
        {
          "output_type": "stream",
          "text": [
            "Downloading data from https://s3.amazonaws.com/img-datasets/mnist.npz\n",
            "11493376/11490434 [==============================] - 1s 0us/step\n"
          ],
          "name": "stdout"
        }
      ]
    },
    {
      "metadata": {
        "id": "RxUePAeTImYe",
        "colab_type": "text"
      },
      "cell_type": "markdown",
      "source": [
        ""
      ]
    },
    {
      "metadata": {
        "id": "dXWfQaLoMsed",
        "colab_type": "code",
        "outputId": "d8f2f1b8-8e98-4ffb-ca9a-6f7299a22200",
        "colab": {
          "base_uri": "https://localhost:8080/",
          "height": 34
        }
      },
      "cell_type": "code",
      "source": [
        "np.prod(x_train.shape[1:])\n",
        "len(x_train)\n"
      ],
      "execution_count": 6,
      "outputs": [
        {
          "output_type": "execute_result",
          "data": {
            "text/plain": [
              "60000"
            ]
          },
          "metadata": {
            "tags": []
          },
          "execution_count": 6
        }
      ]
    },
    {
      "metadata": {
        "id": "13uxYxxiEiD-",
        "colab_type": "text"
      },
      "cell_type": "markdown",
      "source": [
        "TensorFlow sólo reconoce tensores de floats (vectores). Por esta razón, lo primero que se hace es transformarlo en un vector con elementos de tipo float32.  Adicionalmente, las imagenes (x_) son divididas por 255 para que todos los valores se encuentren entre 0 y 1. Se les modifica las dimensiones, aplanandolas, es decir, los 784(28x28) pixels aparecen para cada registro y transformando en la codificación one-hot las distintas posibles clasificaciones (0-9 números)"
      ]
    },
    {
      "metadata": {
        "id": "OKQxLkzlET4e",
        "colab_type": "code",
        "colab": {}
      },
      "cell_type": "code",
      "source": [
        "x_train = x_train.astype('float32') / 255.\n",
        "x_test = x_test.astype('float32') / 255.\n",
        "x_train = x_train.reshape((len(x_train), np.prod(x_train.shape[1:])))\n",
        "x_test = x_test.reshape((len(x_test), np.prod(x_test.shape[1:])))\n",
        "y_train = to_categorical(y_train, 10)\n",
        "y_test = to_categorical(y_test, 10)"
      ],
      "execution_count": 0,
      "outputs": []
    },
    {
      "metadata": {
        "id": "ACOVgK3IET4h",
        "colab_type": "text"
      },
      "cell_type": "markdown",
      "source": [
        "Ahora vamos a crear la red neuronal densa. Para ello, definimos que tiene en su capa de entrada 784 variables de entrada y una capa de salida con 10 posibles clasificaciones. En la capa de salida se utiliza la función de activación sigmoidal, porque se trata de un problema de clasificación.\n",
        "\n",
        "Entre la capa de entrada y salida tenemos 3 capas densas con 100 neuronas cada una. Estas capas tienen como función de activación una función tangente hiperbólica y para inicializar los pesos de la capa utiliza una función aleatoria con una distribución uniforme. \n",
        "\n",
        "Las capas se van uniendo entre ellas pasando el tensor que devuelve cada capa. \n",
        "\n",
        "Finalmente, se crea el modelo mlp con la estructura de red neuronal densa creada y las salidas."
      ]
    },
    {
      "metadata": {
        "id": "9yAbcWjZET4i",
        "colab_type": "code",
        "colab": {}
      },
      "cell_type": "code",
      "source": [
        "from keras.layers import Input, Dense\n",
        "from keras.models import Model\n",
        "\n",
        "x = Input(shape=(784,))\n",
        "z = Dense(100, activation='tanh', kernel_initializer='random_uniform')(x)\n",
        "z = Dense(100, activation='tanh', kernel_initializer='random_uniform')(z)\n",
        "z = Dense(100, activation='tanh', kernel_initializer='random_uniform')(z)\n",
        "y = Dense(10, activation='sigmoid')(z)\n",
        "\n",
        "mlp = Model(x, y)"
      ],
      "execution_count": 0,
      "outputs": []
    },
    {
      "metadata": {
        "id": "thfTUi-uSUml",
        "colab_type": "text"
      },
      "cell_type": "markdown",
      "source": [
        "Una vez creado el modelo, tenemos que compilarlo y definimos la funcion de perdida como categorical_crossentropy, que es indicada para clasificaciones y como función de optimización el gradiente descendiente."
      ]
    },
    {
      "metadata": {
        "id": "l4Xc1uhhET4l",
        "colab_type": "code",
        "colab": {}
      },
      "cell_type": "code",
      "source": [
        "mlp.compile(optimizer='sgd', loss='categorical_crossentropy')"
      ],
      "execution_count": 0,
      "outputs": []
    },
    {
      "metadata": {
        "id": "V9aZoMyuSvcv",
        "colab_type": "text"
      },
      "cell_type": "markdown",
      "source": [
        "Con el modelo creado, vamos a entrenarlo, vamos a hacer 10 iteracciones con un tamaño de batch de 256 registros y vamos a introducirlos en la red aleatoriamente entre las neuronas para que no se establezca un orden."
      ]
    },
    {
      "metadata": {
        "id": "0WD-qiwYET4o",
        "colab_type": "code",
        "outputId": "fdf5e508-6bf9-4425-c800-765227a68379",
        "colab": {
          "base_uri": "https://localhost:8080/",
          "height": 374
        }
      },
      "cell_type": "code",
      "source": [
        "mlp.fit(x_train, y_train,\n",
        "        epochs=10,\n",
        "        batch_size=256,\n",
        "        shuffle=True)"
      ],
      "execution_count": 10,
      "outputs": [
        {
          "output_type": "stream",
          "text": [
            "Epoch 1/10\n",
            "60000/60000 [==============================] - 2s 34us/step - loss: 2.2932\n",
            "Epoch 2/10\n",
            "60000/60000 [==============================] - 2s 26us/step - loss: 2.2641\n",
            "Epoch 3/10\n",
            "60000/60000 [==============================] - 2s 25us/step - loss: 2.2042\n",
            "Epoch 4/10\n",
            "60000/60000 [==============================] - 1s 25us/step - loss: 2.0704\n",
            "Epoch 5/10\n",
            "60000/60000 [==============================] - 1s 25us/step - loss: 1.8878\n",
            "Epoch 6/10\n",
            "60000/60000 [==============================] - 1s 25us/step - loss: 1.7163\n",
            "Epoch 7/10\n",
            "60000/60000 [==============================] - 1s 25us/step - loss: 1.5225\n",
            "Epoch 8/10\n",
            "60000/60000 [==============================] - 1s 24us/step - loss: 1.3087\n",
            "Epoch 9/10\n",
            "60000/60000 [==============================] - 1s 25us/step - loss: 1.1412\n",
            "Epoch 10/10\n",
            "60000/60000 [==============================] - 1s 24us/step - loss: 1.0169\n"
          ],
          "name": "stdout"
        },
        {
          "output_type": "execute_result",
          "data": {
            "text/plain": [
              "<keras.callbacks.History at 0x7fed8ecb4470>"
            ]
          },
          "metadata": {
            "tags": []
          },
          "execution_count": 10
        }
      ]
    },
    {
      "metadata": {
        "id": "_l9XozQJTG_o",
        "colab_type": "text"
      },
      "cell_type": "markdown",
      "source": [
        "Una vez entrenado el modelo, vamos a evaluar con el dataset de test y vamos a ver su accuracy, midiendo como la eficacia de nuestro modelo.\n"
      ]
    },
    {
      "metadata": {
        "id": "M5xWSn8_ET4r",
        "colab_type": "code",
        "outputId": "46e5c644-2d1a-4abd-8344-c72676619cb5",
        "colab": {
          "base_uri": "https://localhost:8080/",
          "height": 51
        }
      },
      "cell_type": "code",
      "source": [
        "mlp.evaluate(x_test, y_test)"
      ],
      "execution_count": 11,
      "outputs": [
        {
          "output_type": "stream",
          "text": [
            "10000/10000 [==============================] - 0s 29us/step\n"
          ],
          "name": "stdout"
        },
        {
          "output_type": "execute_result",
          "data": {
            "text/plain": [
              "0.9513498230934143"
            ]
          },
          "metadata": {
            "tags": []
          },
          "execution_count": 11
        }
      ]
    },
    {
      "metadata": {
        "id": "KC0MJ2JTabL9",
        "colab_type": "text"
      },
      "cell_type": "markdown",
      "source": [
        "# **MNIST  CNN**\n",
        "\n",
        "Ahora vamos a realizar el mismo problema de clasificación, pero con una red convolucional\n"
      ]
    },
    {
      "metadata": {
        "id": "3b9Oj5vTat2A",
        "colab_type": "code",
        "colab": {
          "base_uri": "https://localhost:8080/",
          "height": 34
        },
        "outputId": "b6a7d9f2-78d8-4c5b-ecae-0ca59dd7faa4"
      },
      "cell_type": "code",
      "source": [
        "import keras\n",
        "from keras.models import Sequential\n",
        "from keras.layers import Dense, Dropout,Flatten\n",
        "from keras.layers import Conv2D, MaxPooling2D\n",
        "from keras import backend as K\n",
        "from keras.optimizers import Adam\n",
        "from keras.models import model_from_json\n",
        "from keras.callbacks import ReduceLROnPlateau, TensorBoard, EarlyStopping, ModelCheckpoint\n",
        "from keras.models import load_model\n",
        "from keras import regularizers\n",
        "import numpy as np\n",
        "batch_size = 128\n",
        "num_classes = 10\n",
        "epochs = 100"
      ],
      "execution_count": 3,
      "outputs": [
        {
          "output_type": "stream",
          "text": [
            "Using TensorFlow backend.\n"
          ],
          "name": "stderr"
        }
      ]
    },
    {
      "metadata": {
        "id": "ucCRUtClgbA8",
        "colab_type": "code",
        "colab": {}
      },
      "cell_type": "code",
      "source": [
        "import keras\n",
        "from keras.datasets import mnist\n",
        "#load mnist dataset\n",
        "(X_train, y_train), (X_test, y_test) = mnist.load_data() #everytime loading data won't be so easy :)"
      ],
      "execution_count": 0,
      "outputs": []
    },
    {
      "metadata": {
        "id": "DHYgdaG5gR8I",
        "colab_type": "code",
        "colab": {
          "base_uri": "https://localhost:8080/",
          "height": 751
        },
        "outputId": "a5f74041-90a3-46b0-d112-32fcabf8e427"
      },
      "cell_type": "code",
      "source": [
        "import matplotlib.pyplot as plt\n",
        "fig = plt.figure()\n",
        "for i in range(9):\n",
        "  plt.subplot(3,3,i+1)\n",
        "  plt.tight_layout()\n",
        "  plt.imshow(X_train[i], cmap='gray', interpolation='none')\n",
        "  plt.title(\"Digit: {}\".format(y_train[i]))\n",
        "  plt.xticks([])\n",
        "  plt.yticks([])\n",
        "fig"
      ],
      "execution_count": 30,
      "outputs": [
        {
          "output_type": "execute_result",
          "data": {
            "image/png": "[encoded data removed]",
            "text/plain": [
              "<matplotlib.figure.Figure at 0x7fed8ae555f8>"
            ]
          },
          "metadata": {
            "tags": []
          },
          "execution_count": 30
        },
        {
          "output_type": "display_data",
          "data": {
            "image/png": "[encoded data removed]",
            "text/plain": [
              "<matplotlib.figure.Figure at 0x7fed8ae555f8>"
            ]
          },
          "metadata": {
            "tags": []
          }
        }
      ]
    },
    {
      "metadata": {
        "id": "CkzzGl7pgdDP",
        "colab_type": "code",
        "colab": {
          "base_uri": "https://localhost:8080/",
          "height": 34
        },
        "outputId": "76eaa782-955a-4d07-9f61-a31e8675e60f"
      },
      "cell_type": "code",
      "source": [
        "from keras.datasets import mnist\n",
        "from keras.utils import to_categorical\n",
        "\n",
        "(train_images, train_labels), (test_images, test_labels) = mnist.load_data()\n",
        "\n",
        "print (train_images.shape)\n",
        "train_images = train_images.reshape((60000, 28, 28, 1))\n",
        "train_images = train_images.astype('float32') / 255\n",
        "\n",
        "test_images = test_images.reshape((10000, 28, 28, 1))\n",
        "test_images = test_images.astype('float32') / 255\n",
        "\n",
        "train_labels = to_categorical(train_labels)\n",
        "test_labels = to_categorical(test_labels)"
      ],
      "execution_count": 46,
      "outputs": [
        {
          "output_type": "stream",
          "text": [
            "(60000, 28, 28)\n"
          ],
          "name": "stdout"
        }
      ]
    },
    {
      "metadata": {
        "id": "Kh0cl-MYlBZH",
        "colab_type": "code",
        "colab": {
          "base_uri": "https://localhost:8080/",
          "height": 340
        },
        "outputId": "3298cc82-4f43-4a03-e2f0-b91e212ca5f1"
      },
      "cell_type": "code",
      "source": [
        "model = Sequential()\n",
        "model.add(Conv2D(32, (5, 5), activation='relu', input_shape=(28, 28, 1)))\n",
        "model.add(MaxPooling2D((2, 2)))\n",
        "model.add(Conv2D(64, (5, 5), activation='relu'))\n",
        "model.add(MaxPooling2D((2, 2)))\n",
        "model.add(Flatten())\n",
        "model.add(Dense(10, activation='softmax'))\n",
        "model.summary()"
      ],
      "execution_count": 45,
      "outputs": [
        {
          "output_type": "stream",
          "text": [
            "_________________________________________________________________\n",
            "Layer (type)                 Output Shape              Param #   \n",
            "=================================================================\n",
            "conv2d_11 (Conv2D)           (None, 24, 24, 32)        832       \n",
            "_________________________________________________________________\n",
            "max_pooling2d_8 (MaxPooling2 (None, 12, 12, 32)        0         \n",
            "_________________________________________________________________\n",
            "conv2d_12 (Conv2D)           (None, 8, 8, 64)          51264     \n",
            "_________________________________________________________________\n",
            "max_pooling2d_9 (MaxPooling2 (None, 4, 4, 64)          0         \n",
            "_________________________________________________________________\n",
            "flatten_4 (Flatten)          (None, 1024)              0         \n",
            "_________________________________________________________________\n",
            "dense_10 (Dense)             (None, 10)                10250     \n",
            "=================================================================\n",
            "Total params: 62,346\n",
            "Trainable params: 62,346\n",
            "Non-trainable params: 0\n",
            "_________________________________________________________________\n"
          ],
          "name": "stdout"
        }
      ]
    },
    {
      "metadata": {
        "id": "kF-vmyVUgfek",
        "colab_type": "code",
        "colab": {
          "base_uri": "https://localhost:8080/",
          "height": 85
        },
        "outputId": "7ea73b16-7942-4567-df1f-5f6d042cd2c2"
      },
      "cell_type": "code",
      "source": [
        "batch_size = 100\n",
        "epochs = 5\n",
        "\n",
        "model.compile(loss='categorical_crossentropy',\n",
        "              optimizer='sgd',\n",
        "              metrics=['accuracy'])\n",
        "\n",
        "model.fit(train_images, train_labels,\n",
        "          batch_size=batch_size,\n",
        "          epochs=epochs,\n",
        "          verbose=1\n",
        "          )"
      ],
      "execution_count": 0,
      "outputs": [
        {
          "output_type": "stream",
          "text": [
            "Epoch 1/5\n",
            "60000/60000 [==============================] - 79s 1ms/step - loss: 0.9726 - acc: 0.7476\n",
            "Epoch 2/5\n",
            " 1400/60000 [..............................] - ETA: 1:16 - loss: 0.2827 - acc: 0.9221"
          ],
          "name": "stdout"
        }
      ]
    },
    {
      "metadata": {
        "id": "Cv2PQvBdn79k",
        "colab_type": "code",
        "colab": {}
      },
      "cell_type": "code",
      "source": [
        "test_loss, test_acc = model.evaluate(test_images, test_labels)\n",
        "\n",
        "print('Test loss:', test_loss)\n",
        "print('Test accuracy:', test_acc)"
      ],
      "execution_count": 0,
      "outputs": []
    }
  ]
}