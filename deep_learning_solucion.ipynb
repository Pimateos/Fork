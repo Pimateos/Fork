{
  "nbformat": 4,
  "nbformat_minor": 0,
  "metadata": {
    "colab": {
      "name": "deep_learning_solucion.ipynb",
      "version": "0.3.2",
      "provenance": [],
      "collapsed_sections": [],
      "include_colab_link": true
    },
    "kernelspec": {
      "display_name": "Python 3",
      "language": "python",
      "name": "python3"
    }
  },
  "cells": [
    {
      "cell_type": "markdown",
      "metadata": {
        "id": "view-in-github",
        "colab_type": "text"
      },
      "source": [
        "<a href=\"https://colab.research.google.com/github/Pimateos/Fork/blob/master/deep_learning_solucion.ipynb\" target=\"_parent\"><img src=\"https://colab.research.google.com/assets/colab-badge.svg\" alt=\"Open In Colab\"/></a>"
      ]
    },
    {
      "metadata": {
        "id": "n22BaS0EET4S",
        "colab_type": "code",
        "colab": {}
      },
      "cell_type": "code",
      "source": [
        "%matplotlib inline"
      ],
      "execution_count": 0,
      "outputs": []
    },
    {
      "metadata": {
        "id": "wYtH_3YNET4W",
        "colab_type": "text"
      },
      "cell_type": "markdown",
      "source": [
        "# Deep Learning\n",
        "\n",
        "Redes profundas, activaciones y métodos de inicialización de pesos"
      ]
    },
    {
      "metadata": {
        "id": "MOvU8l0VEkKX",
        "colab_type": "text"
      },
      "cell_type": "markdown",
      "source": [
        "Vamos a cargar un dataset de datos MNIST, correspondiente a números manuscritos con unas dimensiones de 28x28 pixels. El dataset se divide en :\n",
        "\n",
        "\n",
        "*   Conjunto de entrenamiento (train)\n",
        "*   Conjunto de test(test)\n",
        "\n",
        "A su vez, en ambos tenemos los valores x_ correspondientes a las variables e y_ correspondiente a la variable objetivo, que pretendemos predecir.\n",
        "\n",
        "\n"
      ]
    },
    {
      "metadata": {
        "id": "K5_cacR8ET4Y",
        "colab_type": "code",
        "colab": {}
      },
      "cell_type": "code",
      "source": [
        "from keras.datasets import mnist\n",
        "from keras.utils import to_categorical\n",
        "import numpy as np\n",
        "(x_train, y_train), (x_test, y_test) = mnist.load_data()"
      ],
      "execution_count": 0,
      "outputs": []
    },
    {
      "metadata": {
        "id": "RxUePAeTImYe",
        "colab_type": "text"
      },
      "cell_type": "markdown",
      "source": [
        ""
      ]
    },
    {
      "metadata": {
        "id": "dXWfQaLoMsed",
        "colab_type": "code",
        "colab": {
          "base_uri": "https://localhost:8080/",
          "height": 34
        },
        "outputId": "8ed031fa-c056-433a-8dc3-4712528cd213"
      },
      "cell_type": "code",
      "source": [
        "np.prod(x_train.shape[1:])\n",
        "len(x_train)\n"
      ],
      "execution_count": 14,
      "outputs": [
        {
          "output_type": "execute_result",
          "data": {
            "text/plain": [
              "60000"
            ]
          },
          "metadata": {
            "tags": []
          },
          "execution_count": 14
        }
      ]
    },
    {
      "metadata": {
        "id": "13uxYxxiEiD-",
        "colab_type": "text"
      },
      "cell_type": "markdown",
      "source": [
        "TensorFlow sólo reconoce tensores de floats (vectores). Por esta razón, lo primero que se hace es transformarlo en un vector con elementos de tipo float32.  Adicionalmente, las imagenes (x_) son divididas por 255 para que todos los valores se encuentren entre 0 y 1. Se les modifica las dimensiones, aplanandolas, es decir, los 784(28x28) pixels aparecen para cada registro y transformando en la codificación one-hot las distintas posibles clasificaciones (0-9 números)"
      ]
    },
    {
      "metadata": {
        "id": "OKQxLkzlET4e",
        "colab_type": "code",
        "colab": {}
      },
      "cell_type": "code",
      "source": [
        "x_train = x_train.astype('float32') / 255.\n",
        "x_test = x_test.astype('float32') / 255.\n",
        "x_train = x_train.reshape((len(x_train), np.prod(x_train.shape[1:])))\n",
        "x_test = x_test.reshape((len(x_test), np.prod(x_test.shape[1:])))\n",
        "y_train = to_categorical(y_train, 10)\n",
        "y_test = to_categorical(y_test, 10)"
      ],
      "execution_count": 0,
      "outputs": []
    },
    {
      "metadata": {
        "id": "ACOVgK3IET4h",
        "colab_type": "text"
      },
      "cell_type": "markdown",
      "source": [
        "Ahora vamos a crear la red neuronal densa. Para ello, definimos que tiene en su capa de entrada 784 variables de entrada. Después, tiene 4 layers:\n",
        "1.- Una capa densa (todas las variables se conectan con todas las neuronas) con 100 neuronas, con una función de activación tangencial y un kerne"
      ]
    },
    {
      "metadata": {
        "id": "9yAbcWjZET4i",
        "colab_type": "code",
        "colab": {}
      },
      "cell_type": "code",
      "source": [
        "from keras.layers import Input, Dense\n",
        "from keras.models import Model\n",
        "\n",
        "x = Input(shape=(784,))\n",
        "z = Dense(100, activation='tanh', kernel_initializer='random_uniform')(x)\n",
        "z = Dense(100, activation='tanh', kernel_initializer='random_uniform')(z)\n",
        "z = Dense(100, activation='tanh', kernel_initializer='random_uniform')(z)\n",
        "y = Dense(10, activation='sigmoid')(z)\n",
        "\n",
        "mlp = Model(x, y)"
      ],
      "execution_count": 0,
      "outputs": []
    },
    {
      "metadata": {
        "id": "l4Xc1uhhET4l",
        "colab_type": "code",
        "colab": {}
      },
      "cell_type": "code",
      "source": [
        "mlp.compile(optimizer='sgd', loss='categorical_crossentropy')"
      ],
      "execution_count": 0,
      "outputs": []
    },
    {
      "metadata": {
        "id": "0WD-qiwYET4o",
        "colab_type": "code",
        "colab": {
          "base_uri": "https://localhost:8080/",
          "height": 374
        },
        "outputId": "d2ee9cd5-db34-44da-c102-a22eb90f412b"
      },
      "cell_type": "code",
      "source": [
        "mlp.fit(x_train, y_train,\n",
        "        epochs=10,\n",
        "        batch_size=256,\n",
        "        shuffle=True)"
      ],
      "execution_count": 6,
      "outputs": [
        {
          "output_type": "stream",
          "text": [
            "Epoch 1/10\n",
            "60000/60000 [==============================] - 2s 35us/step - loss: 2.2910\n",
            "Epoch 2/10\n",
            "60000/60000 [==============================] - 2s 26us/step - loss: 2.2630\n",
            "Epoch 3/10\n",
            "60000/60000 [==============================] - 2s 25us/step - loss: 2.2088\n",
            "Epoch 4/10\n",
            "60000/60000 [==============================] - 1s 24us/step - loss: 2.0997\n",
            "Epoch 5/10\n",
            "60000/60000 [==============================] - 1s 24us/step - loss: 1.9362\n",
            "Epoch 6/10\n",
            "60000/60000 [==============================] - 1s 24us/step - loss: 1.7514\n",
            "Epoch 7/10\n",
            "60000/60000 [==============================] - 1s 24us/step - loss: 1.5722\n",
            "Epoch 8/10\n",
            "60000/60000 [==============================] - 1s 24us/step - loss: 1.3574\n",
            "Epoch 9/10\n",
            "60000/60000 [==============================] - 1s 24us/step - loss: 1.1445\n",
            "Epoch 10/10\n",
            "60000/60000 [==============================] - 1s 24us/step - loss: 0.9621\n"
          ],
          "name": "stdout"
        },
        {
          "output_type": "execute_result",
          "data": {
            "text/plain": [
              "<keras.callbacks.History at 0x7fb446231ac8>"
            ]
          },
          "metadata": {
            "tags": []
          },
          "execution_count": 6
        }
      ]
    },
    {
      "metadata": {
        "id": "M5xWSn8_ET4r",
        "colab_type": "code",
        "colab": {
          "base_uri": "https://localhost:8080/",
          "height": 51
        },
        "outputId": "fb6d4c69-9bb4-4ba0-8d52-042a1902b678"
      },
      "cell_type": "code",
      "source": [
        "mlp.evaluate(x_test, y_test)"
      ],
      "execution_count": 7,
      "outputs": [
        {
          "output_type": "stream",
          "text": [
            "10000/10000 [==============================] - 0s 28us/step\n"
          ],
          "name": "stdout"
        },
        {
          "output_type": "execute_result",
          "data": {
            "text/plain": [
              "0.8675141201019287"
            ]
          },
          "metadata": {
            "tags": []
          },
          "execution_count": 7
        }
      ]
    }
  ]
}